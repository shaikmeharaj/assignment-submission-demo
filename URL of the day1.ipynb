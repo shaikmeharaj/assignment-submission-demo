{
 "cells": [
  {
   "cell_type": "code",
   "execution_count": 1,
   "metadata": {},
   "outputs": [
    {
     "name": "stdout",
     "output_type": "stream",
     "text": [
      "Enter lower range: 20\n",
      "Enter upper range: 30\n",
      "23\n",
      "29\n"
     ]
    }
   ],
   "source": [
    "#prime numbers\n",
    "lower = int(input(\"Enter lower range: \"))  \n",
    "upper = int(input(\"Enter upper range: \"))  \n",
    "  \n",
    "for num in range(lower,upper + 1):  \n",
    "   if num > 1:  \n",
    "       for i in range(2,num):  \n",
    "           if (num % i) == 0:  \n",
    "               break  \n",
    "       else:  \n",
    "           print(num)"
   ]
  },
  {
   "cell_type": "code",
   "execution_count": 6,
   "metadata": {},
   "outputs": [
    {
     "name": "stdout",
     "output_type": "stream",
     "text": [
      "Enter a number: 25\n",
      "The factorial of 25 is 15511210043330985984000000\n"
     ]
    }
   ],
   "source": [
    "#factorial\n",
    "num = int(input(\"Enter a number: \"))  \n",
    "factorial = 1  \n",
    "if num < 0:  \n",
    "   print(\"Sorry, factorial does not exist for negative numbers\")  \n",
    "elif num == 0:  \n",
    "   print(\"The factorial of 0 is 1\")  \n",
    "else:  \n",
    "   for i in range(1,num + 1):  \n",
    "       factorial = factorial*i  \n",
    "   print(\"The factorial of\",num,\"is\",factorial)  "
   ]
  },
  {
   "cell_type": "code",
   "execution_count": 13,
   "metadata": {},
   "outputs": [
    {
     "name": "stdout",
     "output_type": "stream",
     "text": [
      "Enter a number: 2\n",
      "The sum is 3\n"
     ]
    }
   ],
   "source": [
    "#Numbers using the while loop\n",
    "num = int(input(\"Enter a number: \"))  \n",
    "  \n",
    "if num < 0:  \n",
    "   print(\"Enter a positive number\")  \n",
    "else:  \n",
    "   sum = 0  \n",
    "   # use while loop to iterate un till zero  \n",
    "   while(num > 0):  \n",
    "       sum += num  \n",
    "       num -= 1  \n",
    "   print(\"The sum is\",sum)"
   ]
  },
  {
   "cell_type": "code",
   "execution_count": null,
   "metadata": {},
   "outputs": [],
   "source": []
  }
 ],
 "metadata": {
  "kernelspec": {
   "display_name": "Python 3",
   "language": "python",
   "name": "python3"
  },
  "language_info": {
   "codemirror_mode": {
    "name": "ipython",
    "version": 3
   },
   "file_extension": ".py",
   "mimetype": "text/x-python",
   "name": "python",
   "nbconvert_exporter": "python",
   "pygments_lexer": "ipython3",
   "version": "3.8.5"
  }
 },
 "nbformat": 4,
 "nbformat_minor": 4
}
